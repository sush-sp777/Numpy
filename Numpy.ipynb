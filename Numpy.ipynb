{
 "cells": [
  {
   "cell_type": "markdown",
   "id": "20678cd5-2667-4cb2-8cea-5ebe3d159625",
   "metadata": {},
   "source": [
    "# Numpy"
   ]
  },
  {
   "cell_type": "code",
   "execution_count": 1,
   "id": "39874765-aaac-40f8-b68a-7cfc52f2d385",
   "metadata": {},
   "outputs": [
    {
     "name": "stdout",
     "output_type": "stream",
     "text": [
      "Requirement already satisfied: numpy in c:\\users\\user\\appdata\\local\\programs\\python\\python310\\lib\\site-packages (1.26.4)\n"
     ]
    }
   ],
   "source": [
    "!pip install numpy"
   ]
  },
  {
   "cell_type": "code",
   "execution_count": 3,
   "id": "03a13f59-f8e6-40fd-b388-171155b681e6",
   "metadata": {},
   "outputs": [],
   "source": [
    "import numpy as np"
   ]
  },
  {
   "cell_type": "code",
   "execution_count": 21,
   "id": "7c7e2d6d-c351-4495-b3e6-55974fd454fa",
   "metadata": {},
   "outputs": [
    {
     "name": "stdout",
     "output_type": "stream",
     "text": [
      "[1 2 3 4 5]\n"
     ]
    },
    {
     "data": {
      "text/plain": [
       "(5,)"
      ]
     },
     "execution_count": 21,
     "metadata": {},
     "output_type": "execute_result"
    }
   ],
   "source": [
    "#1d array\n",
    "arr_1d=np.array([1,2,3,4,5])\n",
    "print(arr_1d)\n",
    "arr_1d.shape"
   ]
  },
  {
   "cell_type": "code",
   "execution_count": 43,
   "id": "e251c526-3a8e-4b51-ae5a-f29c15d06a4c",
   "metadata": {},
   "outputs": [
    {
     "name": "stdout",
     "output_type": "stream",
     "text": [
      "[[1 2 3]\n",
      " [4 5 6]\n",
      " [7 8 9]]\n"
     ]
    },
    {
     "data": {
      "text/plain": [
       "(3, 3)"
      ]
     },
     "execution_count": 43,
     "metadata": {},
     "output_type": "execute_result"
    }
   ],
   "source": [
    "#two dimensional arrays \n",
    "arr_2d=np.array([[1,2,3],\n",
    "               [4,5,6],\n",
    "               [7,8,9]])\n",
    "print(arr_2d) \n",
    "arr_2d.shape"
   ]
  },
  {
   "cell_type": "code",
   "execution_count": 11,
   "id": "a45f7040-80fb-41ea-848d-c3cb9f286842",
   "metadata": {},
   "outputs": [
    {
     "name": "stdout",
     "output_type": "stream",
     "text": [
      "[0. 0. 0.]\n"
     ]
    }
   ],
   "source": [
    "#with default values\n",
    "default_arr=np.zeros(3)\n",
    "print(default_arr)"
   ]
  },
  {
   "cell_type": "code",
   "execution_count": 13,
   "id": "b0947881-45cc-4f36-8f6d-946de7e2bb6b",
   "metadata": {},
   "outputs": [
    {
     "name": "stdout",
     "output_type": "stream",
     "text": [
      "[[1. 1. 1.]\n",
      " [1. 1. 1.]]\n"
     ]
    }
   ],
   "source": [
    "default_arr_ones=np.ones((2,3))\n",
    "print(default_arr_ones)"
   ]
  },
  {
   "cell_type": "code",
   "execution_count": 17,
   "id": "0699f72e-0442-4391-b3cb-be4d9cc6ba3c",
   "metadata": {},
   "outputs": [
    {
     "name": "stdout",
     "output_type": "stream",
     "text": [
      "[[5 5]\n",
      " [5 5]]\n"
     ]
    }
   ],
   "source": [
    "filled_arr=np.full((2,2),5)\n",
    "print(filled_arr)"
   ]
  },
  {
   "cell_type": "code",
   "execution_count": 25,
   "id": "4fbf9acc-94ca-4677-9511-00c51dd16a56",
   "metadata": {},
   "outputs": [
    {
     "name": "stdout",
     "output_type": "stream",
     "text": [
      "[1 3 5 7 9]\n"
     ]
    }
   ],
   "source": [
    "#creating sequences of numbers in numpy\n",
    "#arange (start,stop,step)\n",
    "seq_arr=np.arange(1,10,2)\n",
    "print(seq_arr)"
   ]
  },
  {
   "cell_type": "code",
   "execution_count": 39,
   "id": "29d9e30d-c9be-4502-8952-bbb03e448cec",
   "metadata": {},
   "outputs": [
    {
     "name": "stdout",
     "output_type": "stream",
     "text": [
      "[[1. 0. 0.]\n",
      " [0. 1. 0.]\n",
      " [0. 0. 1.]]\n",
      "9\n",
      "2\n"
     ]
    }
   ],
   "source": [
    "#creating identity matrices\n",
    "identity_matrix=np.eye(3)\n",
    "print(identity_matrix)\n",
    "print(identity_matrix.size)    # total number of elements in arr\n",
    "print(identity_matrix.ndim)    # number of dimensions"
   ]
  },
  {
   "cell_type": "code",
   "execution_count": 41,
   "id": "be679041-566f-45b5-9362-08c185ca57d3",
   "metadata": {},
   "outputs": [
    {
     "name": "stdout",
     "output_type": "stream",
     "text": [
      "[1 2 3]\n",
      "1\n",
      "[[1 2 3]\n",
      " [4 5 6]]\n",
      "2\n",
      "[[[1 2]\n",
      "  [3 4]\n",
      "  [5 6]\n",
      "  [7 8]]]\n",
      "3\n"
     ]
    }
   ],
   "source": [
    "arr_one=np.array([1,2,3])\n",
    "arr_two=np.array([[1,2,3],[4,5,6]])\n",
    "arr_three=np.array([[[1,2],[3,4],[5,6],[7,8]]])\n",
    "print(arr_one)\n",
    "print(arr_one.ndim)\n",
    "print(arr_two)\n",
    "print(arr_two.ndim)\n",
    "print(arr_three)\n",
    "print(arr_three.ndim)"
   ]
  },
  {
   "cell_type": "code",
   "execution_count": 45,
   "id": "28aaf2bf-0765-45c8-81f3-9205ef42959d",
   "metadata": {},
   "outputs": [
    {
     "name": "stdout",
     "output_type": "stream",
     "text": [
      "float64\n"
     ]
    }
   ],
   "source": [
    "#dtype= data type of array\n",
    "arr=np.array([11,23,33.4])\n",
    "print(arr.dtype)"
   ]
  },
  {
   "cell_type": "code",
   "execution_count": 53,
   "id": "bae3b727-cc03-46a2-84e9-c75f58446900",
   "metadata": {},
   "outputs": [
    {
     "name": "stdout",
     "output_type": "stream",
     "text": [
      "float64\n",
      "[11 22 34]\n"
     ]
    }
   ],
   "source": [
    "#astype\n",
    "arr=np.array([11,22.4,34.4])\n",
    "print(arr.dtype)\n",
    "int_arr=arr.astype(int)\n",
    "print(int_arr)\n"
   ]
  },
  {
   "cell_type": "code",
   "execution_count": 15,
   "id": "1a9535ef-c4ee-4d25-8b9a-10ac36c422dd",
   "metadata": {},
   "outputs": [
    {
     "name": "stdout",
     "output_type": "stream",
     "text": [
      "[ 2  4  6  8 10]\n",
      "[ 1  4  9 16 25]\n",
      "[ 7  9 11 13 15]\n"
     ]
    }
   ],
   "source": [
    "#numpy vectorized operation\n",
    "arr=np.array([1,2,3,4,5])\n",
    "print(arr*2)\n",
    "print(arr**2)\n",
    "arr2=np.array([6,7,8,9,10])\n",
    "print(arr+arr2)"
   ]
  },
  {
   "cell_type": "code",
   "execution_count": 21,
   "id": "8a631bef-840b-475a-a814-122b06f5da31",
   "metadata": {},
   "outputs": [
    {
     "name": "stdout",
     "output_type": "stream",
     "text": [
      "Sum: 145\n",
      "Min: 11\n",
      "max: 55\n",
      "Mean: 29.0\n",
      "Median: 23.0\n",
      "Standard deviation: 17.60681686165901\n",
      "variance: 310.0\n"
     ]
    }
   ],
   "source": [
    "#statastical concepts\n",
    "data=np.array([11,12,23,44,55])\n",
    "sum=np.sum(data)   #sum\n",
    "print(\"Sum:\",sum)\n",
    "min=np.min(data)  #min\n",
    "print(\"Min:\",min)\n",
    "max=np.max(data)  #max\n",
    "print(\"max:\",max)\n",
    "mean=np.mean(data)  # mean\n",
    "print(\"Mean:\",mean)\n",
    "median=np.median(data)  #median\n",
    "print(\"Median:\",median)\n",
    "std_d=np.std(data)  #standard deviation\n",
    "print(\"Standard deviation:\",std_d)\n",
    "var=np.var(data)   #variance\n",
    "print(\"variance:\",var)"
   ]
  },
  {
   "cell_type": "code",
   "execution_count": 24,
   "id": "625d427d-df67-48be-8ac2-146ed17975fa",
   "metadata": {},
   "outputs": [
    {
     "name": "stdout",
     "output_type": "stream",
     "text": [
      "sqrt: [1.         1.41421356 1.73205081 2.         2.23606798]\n",
      "exp: [  2.71828183   7.3890561   20.08553692  54.59815003 148.4131591 ]\n",
      "log: [0.         0.69314718 1.09861229 1.38629436 1.60943791]\n"
     ]
    }
   ],
   "source": [
    "#universal function\n",
    "arr=np.array([1,2,3,4,5])\n",
    "sqrt=np.sqrt(arr)   #square root\n",
    "print(\"sqrt:\",sqrt)\n",
    "exp=np.exp(arr)   #exponential\n",
    "print(\"exp:\",exp)\n",
    "log=np.log(arr)  #log\n",
    "print(\"log:\",log)"
   ]
  },
  {
   "cell_type": "code",
   "execution_count": 38,
   "id": "8e9cc566-96d1-4d22-894b-f15d69c7a70e",
   "metadata": {},
   "outputs": [
    {
     "name": "stdout",
     "output_type": "stream",
     "text": [
      "1\n",
      "3\n",
      "[2 3 4]\n",
      "[1 2 3 4]\n",
      "[1 3 5]\n",
      "[6 5 4 3 2 1]\n"
     ]
    }
   ],
   "source": [
    "#indexing & slicing\n",
    "\"\"\" \n",
    "Indexing:\n",
    "array[index]  :1D array\n",
    "array[row,column]  :2D array\n",
    "\"\"\"\n",
    "arr=np.array([1,2,3,4,5])\n",
    "print(arr[0])\n",
    "print(arr[2])\n",
    "\"\"\"\n",
    "Slicing:\n",
    "array[start,stop,step]\n",
    "\"\"\"\n",
    "arr1=np.array([1,2,3,4,5,6])\n",
    "print(arr1[1:4])\n",
    "print(arr1[:4])\n",
    "print(arr1[::2])\n",
    "print(arr1[::-1])"
   ]
  },
  {
   "cell_type": "code",
   "execution_count": 40,
   "id": "dd160d66-74db-4e8d-8366-0d5ff171a405",
   "metadata": {},
   "outputs": [
    {
     "name": "stdout",
     "output_type": "stream",
     "text": [
      "[1 2 3]\n"
     ]
    }
   ],
   "source": [
    "#fancy indexing: selecting multiple elements at ones\n",
    "arr=np.array([1,2,3,4,5,6])\n",
    "print(arr[[0,1,2]])"
   ]
  },
  {
   "cell_type": "code",
   "execution_count": 42,
   "id": "45061001-2cff-4a4c-b02c-5fcd3140538c",
   "metadata": {},
   "outputs": [
    {
     "name": "stdout",
     "output_type": "stream",
     "text": [
      "[30 40 50]\n"
     ]
    }
   ],
   "source": [
    "#boolean masking\n",
    "arr2=np.array([10,20,30,40,50])\n",
    "print(arr2[arr2>25])"
   ]
  },
  {
   "cell_type": "code",
   "execution_count": 50,
   "id": "06713f94-2144-4ea9-ae9a-748fd942bfa2",
   "metadata": {},
   "outputs": [
    {
     "name": "stdout",
     "output_type": "stream",
     "text": [
      "[[1 2]\n",
      " [3 4]]\n"
     ]
    }
   ],
   "source": [
    "#reshaping\n",
    "arr=np.array([1,2,3,4])\n",
    "reshaped=arr.reshape(2,2)\n",
    "print(reshaped)"
   ]
  },
  {
   "cell_type": "code",
   "execution_count": 54,
   "id": "022c0113-231d-4993-85eb-29bd1ac4e916",
   "metadata": {},
   "outputs": [
    {
     "name": "stdout",
     "output_type": "stream",
     "text": [
      "[1 2 3 4 5 6]\n",
      "[1 2 3 4 5 6]\n"
     ]
    }
   ],
   "source": [
    "#flattening\n",
    "arr2d=np.array([[1,2,3],[4,5,6]])\n",
    "print(arr2d.ravel())   #returns view of array\n",
    "print(arr2d.flatten())  #return copy of array"
   ]
  },
  {
   "cell_type": "code",
   "execution_count": 56,
   "id": "583aaa2d-cbc1-4b23-ad3f-6976a5f51ca0",
   "metadata": {},
   "outputs": [
    {
     "name": "stdout",
     "output_type": "stream",
     "text": [
      "[1 2 3 4 5]\n",
      "[  1   2 100   3   4   5]\n"
     ]
    }
   ],
   "source": [
    "#inserting\n",
    "\"\"\"\n",
    "np.insert(array,index,value,axis)\n",
    "\"\"\"\n",
    "arr=np.array([1,2,3,4,5])\n",
    "new=np.insert(arr,2,100)\n",
    "print(arr)\n",
    "print(new)\n"
   ]
  },
  {
   "cell_type": "code",
   "execution_count": 64,
   "id": "8af02b44-aba0-4e35-988e-31979500602e",
   "metadata": {},
   "outputs": [
    {
     "name": "stdout",
     "output_type": "stream",
     "text": [
      "[[1 2 3]\n",
      " [7 8 9]\n",
      " [4 5 6]]\n"
     ]
    }
   ],
   "source": [
    "arr_2d=np.array([[1,2,3],[4,5,6]])\n",
    "#insert a new row at index 1\n",
    "new=np.insert(arr_2d,1,[7,8,9],axis=0)\n",
    "print(new)"
   ]
  },
  {
   "cell_type": "code",
   "execution_count": 70,
   "id": "fa920239-75eb-490e-9151-664bc8770862",
   "metadata": {},
   "outputs": [
    {
     "name": "stdout",
     "output_type": "stream",
     "text": [
      "[1 2 3 4 5 6 7 8 9]\n"
     ]
    }
   ],
   "source": [
    "#append\n",
    "arr=np.array([1,2,3,4,5])\n",
    "print(np.append(arr,[6,7,8,9]))"
   ]
  },
  {
   "cell_type": "code",
   "execution_count": 76,
   "id": "bdc5c8ef-c92f-4b69-922a-0c23f5422ada",
   "metadata": {},
   "outputs": [
    {
     "name": "stdout",
     "output_type": "stream",
     "text": [
      "[1 2 3 4 5 6 7 8]\n"
     ]
    }
   ],
   "source": [
    "#concatenate\n",
    "arr1=np.array([1,2,3,4])\n",
    "arr2=np.array([5,6,7,8])\n",
    "new=np.concatenate((arr1,arr2))\n",
    "print(new)"
   ]
  },
  {
   "cell_type": "code",
   "execution_count": 84,
   "id": "22e0c682-b30a-48d4-9b74-fdfe2e4f69f5",
   "metadata": {},
   "outputs": [
    {
     "name": "stdout",
     "output_type": "stream",
     "text": [
      "[20 30 40]\n",
      "[[4 5 6]]\n"
     ]
    }
   ],
   "source": [
    "#delete\n",
    "arr=np.array([10,20,30,40])\n",
    "new=np.delete(arr,[0])\n",
    "print(new)\n",
    "arr_2d=np.array([[1,2,3],[4,5,6]])\n",
    "new_2d=np.delete(arr_2d,0,axis=0)\n",
    "print(new_2d)"
   ]
  },
  {
   "cell_type": "code",
   "execution_count": 86,
   "id": "4ad53795-4b7f-4665-875e-c57d4a53ad74",
   "metadata": {},
   "outputs": [
    {
     "name": "stdout",
     "output_type": "stream",
     "text": [
      "[[1 2 3]\n",
      " [4 5 6]]\n",
      "[1 2 3 4 5 6]\n"
     ]
    }
   ],
   "source": [
    "#stacking\n",
    "\"\"\"\n",
    "vertically\n",
    "horizontally\n",
    "vstack()  row wise\n",
    "hstack()  column wise\n",
    "\"\"\"\n",
    "arr1=np.array([1,2,3])\n",
    "arr2=np.array([4,5,6])\n",
    "print(np.vstack((arr1,arr2)))   #vertical stack\n",
    "print(np.hstack((arr1,arr2)))   #horizontal stack"
   ]
  },
  {
   "cell_type": "code",
   "execution_count": 94,
   "id": "70f0e42e-7309-4aef-8b0e-266d2ff1514d",
   "metadata": {},
   "outputs": [
    {
     "name": "stdout",
     "output_type": "stream",
     "text": [
      "[array([1, 2]), array([3, 4])]\n"
     ]
    }
   ],
   "source": [
    "#splitting\n",
    "\"\"\"\n",
    "np.split()\n",
    "np.hsplit()\n",
    "np.vsplit()\n",
    "\"\"\"\n",
    "arr=np.array([1,2,3,4])\n",
    "print(np.split(arr,2))"
   ]
  },
  {
   "cell_type": "code",
   "execution_count": 96,
   "id": "ad435241-b083-4446-bf49-2b8f516e5ff7",
   "metadata": {},
   "outputs": [
    {
     "name": "stdout",
     "output_type": "stream",
     "text": [
      "[False False  True False  True]\n"
     ]
    }
   ],
   "source": [
    "#Handeling missing values\n",
    "arr=np.array([1,2,np.nan,4,np.nan])   # nan= not a number\n",
    "print(np.isnan(arr))"
   ]
  },
  {
   "cell_type": "code",
   "execution_count": 104,
   "id": "df26daa4-bde4-481f-b256-f0fb6d2f5d3d",
   "metadata": {},
   "outputs": [
    {
     "name": "stdout",
     "output_type": "stream",
     "text": [
      "[False False  True False  True]\n",
      "[ 1.  2. inf  4. inf]\n",
      "[   1.    2. 1000.    4. 1000.]\n"
     ]
    }
   ],
   "source": [
    "#infinite \n",
    "arr=np.array([1,2,np.inf,4,np.inf])   # inf=infinite values\n",
    "print(np.isinf(arr))\n",
    "print(arr)\n",
    "cleaned_arr=np.nan_to_num(arr,posinf=1000,neginf=-1000)  #nan_to_num= replacing infinite values\n",
    "print(cleaned_arr)"
   ]
  },
  {
   "cell_type": "code",
   "execution_count": 108,
   "id": "16e617a3-442e-4b90-97ac-51a74ac1b841",
   "metadata": {},
   "outputs": [
    {
     "name": "stdout",
     "output_type": "stream",
     "text": [
      "[[[1 2]\n",
      "  [3 4]]\n",
      "\n",
      " [[5 6]\n",
      "  [7 8]]]\n"
     ]
    }
   ],
   "source": [
    "arr=np.array([[[1,2],[3,4]],[[5,6],[7,8]]])\n",
    "print(arr)"
   ]
  },
  {
   "cell_type": "code",
   "execution_count": 116,
   "id": "7c9cf6c0-582b-43f5-b438-2a886e3431d3",
   "metadata": {},
   "outputs": [
    {
     "name": "stdout",
     "output_type": "stream",
     "text": [
      "[0.03533221 0.22781425 0.00404789 0.33234729 0.02861974]\n",
      "[[0.74376699 0.87099861 0.75264015]\n",
      " [0.61508581 0.28212772 0.14836438]]\n"
     ]
    }
   ],
   "source": [
    "#random numbers\n",
    "print(np.random.rand(5))   # float  5 random numbers between 0 and 1\n",
    "print(np.random.rand(2,3))  #float"
   ]
  },
  {
   "cell_type": "code",
   "execution_count": 122,
   "id": "bb659aa2-dd2c-470c-9fcd-2f33ac9da122",
   "metadata": {},
   "outputs": [
    {
     "name": "stdout",
     "output_type": "stream",
     "text": [
      "[-1.22499659 -0.6450488   0.94724052 -0.46880717  0.36016592]\n",
      "[[-1.63295881 -0.58874715  1.0326009 ]\n",
      " [-0.21437101  0.44827094  1.36868735]]\n"
     ]
    }
   ],
   "source": [
    "#random numbers- normal distribution\n",
    "print(np.random.randn(5))   # 5 random numbers 'mean:0,std dev:1'\n",
    "print(np.random.randn(2,3))  "
   ]
  },
  {
   "cell_type": "code",
   "execution_count": 128,
   "id": "38d26b1a-96c8-413d-9032-eddf08d31814",
   "metadata": {},
   "outputs": [
    {
     "name": "stdout",
     "output_type": "stream",
     "text": [
      "7\n",
      "[4 1 7 8 2]\n"
     ]
    }
   ],
   "source": [
    "#random integres\n",
    "print(np.random.randint(1,10)) \n",
    "print(np.random.randint(1,10,size=5))   "
   ]
  },
  {
   "cell_type": "code",
   "execution_count": 132,
   "id": "1d29ebfa-dc84-4c28-b220-db0d231fd2ae",
   "metadata": {},
   "outputs": [
    {
     "name": "stdout",
     "output_type": "stream",
     "text": [
      "[4 5 3]\n"
     ]
    }
   ],
   "source": [
    "#random choice from array\n",
    "arr=np.array([1,2,3,4,5])\n",
    "print(np.random.choice(arr,size=3))"
   ]
  },
  {
   "cell_type": "code",
   "execution_count": 146,
   "id": "4e8c375f-7c87-443a-8226-27c8995e3c5c",
   "metadata": {},
   "outputs": [
    {
     "name": "stdout",
     "output_type": "stream",
     "text": [
      "[0.37454012 0.95071431 0.73199394]\n",
      "[0.37454012 0.95071431 0.73199394]\n"
     ]
    }
   ],
   "source": [
    "#random seed- to get same result every time\n",
    "np.random.seed(42)    #always start the random numbers from the same place\n",
    "print(np.random.rand(3))\n",
    "np.random.seed(42)\n",
    "print(np.random.rand(3))"
   ]
  },
  {
   "cell_type": "code",
   "execution_count": null,
   "id": "410acfe9-00ce-4709-a399-e119eaf663d9",
   "metadata": {},
   "outputs": [],
   "source": []
  }
 ],
 "metadata": {
  "kernelspec": {
   "display_name": "Python 3 (ipykernel)",
   "language": "python",
   "name": "python3"
  },
  "language_info": {
   "codemirror_mode": {
    "name": "ipython",
    "version": 3
   },
   "file_extension": ".py",
   "mimetype": "text/x-python",
   "name": "python",
   "nbconvert_exporter": "python",
   "pygments_lexer": "ipython3",
   "version": "3.12.4"
  }
 },
 "nbformat": 4,
 "nbformat_minor": 5
}
